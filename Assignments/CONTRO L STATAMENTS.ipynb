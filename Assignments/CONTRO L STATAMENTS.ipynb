{
 "cells": [
  {
   "cell_type": "markdown",
   "id": "3660b0bb",
   "metadata": {},
   "source": [
    "### To check given year is leap year or not"
   ]
  },
  {
   "cell_type": "code",
   "execution_count": 6,
   "id": "229b05cd",
   "metadata": {},
   "outputs": [
    {
     "name": "stdout",
     "output_type": "stream",
     "text": [
      "Enter the year: 1900\n",
      "not leap year\n"
     ]
    }
   ],
   "source": [
    "year=int(input(\"Enter the year: \"))\n",
    "if year%4==0:\n",
    "    if year%100==0:\n",
    "        if year%400==0:\n",
    "            print(\"leap year\")\n",
    "        else:\n",
    "            print(\"not leap year\")\n",
    "    else:\n",
    "        print(\"not leap year\")\n",
    "else:\n",
    "    print(\"not leap year\")"
   ]
  },
  {
   "cell_type": "markdown",
   "id": "c4bff2b8",
   "metadata": {},
   "source": [
    "### Print the greatest number of three numbers"
   ]
  },
  {
   "cell_type": "code",
   "execution_count": 9,
   "id": "c046da8c",
   "metadata": {},
   "outputs": [
    {
     "name": "stdout",
     "output_type": "stream",
     "text": [
      "Enter  3 numbers: 37\n",
      "78\n",
      "23\n",
      "78 is greater\n"
     ]
    }
   ],
   "source": [
    "n1=int(input(\"Enter  3 numbers: \"))\n",
    "n2=int(input())\n",
    "n3=int(input())\n",
    "if n1>n2:\n",
    "    if n1>n3:\n",
    "        print(n1,\"is greater\")\n",
    "    else:\n",
    "        print(n3,\"is greater\")\n",
    "else:\n",
    "    if n2>n3:\n",
    "        print(n2,\"is greater\")\n",
    "    else:\n",
    "        print(n3,\"is greater\")\n",
    "        \n"
   ]
  },
  {
   "cell_type": "markdown",
   "id": "45c8eeff",
   "metadata": {},
   "source": [
    "###  Program to check two numbers are equal or not"
   ]
  },
  {
   "cell_type": "code",
   "execution_count": 12,
   "id": "3d925a51",
   "metadata": {},
   "outputs": [
    {
     "name": "stdout",
     "output_type": "stream",
     "text": [
      "Enter the number:56\n",
      "Enter the number:56\n",
      "Numbers are equal.\n"
     ]
    }
   ],
   "source": [
    "a=int(input(\"Enter the number:\"))\n",
    "b=int(input(\"Enter the number:\"))\n",
    "if a==b:\n",
    "    print(\"Numbers are equal.\")\n",
    "else:\n",
    "    print(\"Numbers are  not equal.\")"
   ]
  },
  {
   "cell_type": "markdown",
   "id": "4ceae9d0",
   "metadata": {},
   "source": [
    "### Calculator"
   ]
  },
  {
   "cell_type": "code",
   "execution_count": 11,
   "id": "45865ef6",
   "metadata": {},
   "outputs": [
    {
     "name": "stdout",
     "output_type": "stream",
     "text": [
      "Enter the first number: 45\n",
      "Please enter operator from this list(+,-,*,/)*\n",
      "Enter the second number: 10\n",
      "450\n"
     ]
    }
   ],
   "source": [
    "a=int(input(\"Enter the first number: \"))\n",
    "op=input(\"Please enter operator from this list(+,-,*,/)\")\n",
    "b=int(input(\"Enter the second number: \"))\n",
    "if op==\"+\":\n",
    "    print(a+b)\n",
    "elif op==\"-\":\n",
    "    print(a-b)\n",
    "elif op==\"*\":\n",
    "    print(a*b)\n",
    "elif op==\"/\":\n",
    "    print(a/b)\n",
    "    "
   ]
  },
  {
   "cell_type": "markdown",
   "id": "cb03045e",
   "metadata": {},
   "source": [
    "### Program to give 10% bonus if salary is greater than 10000"
   ]
  },
  {
   "cell_type": "code",
   "execution_count": 23,
   "id": "e9645247",
   "metadata": {},
   "outputs": [
    {
     "name": "stdout",
     "output_type": "stream",
     "text": [
      "Enter your salary: 200000\n",
      "Your 10% bonus is:  20000.0\n"
     ]
    }
   ],
   "source": [
    "salary=float(input(\"Enter your salary: \"))\n",
    "if salary>10000:\n",
    "    print(\"Your 10% bonus is: \",salary*.1)\n",
    "else:\n",
    "    print(\"You are not eligible for bonus!\")\n"
   ]
  },
  {
   "cell_type": "markdown",
   "id": "a60cbd71",
   "metadata": {},
   "source": [
    "### Program to check whether student is pass or failed"
   ]
  },
  {
   "cell_type": "code",
   "execution_count": 26,
   "id": "49ce0a91",
   "metadata": {},
   "outputs": [
    {
     "name": "stdout",
     "output_type": "stream",
     "text": [
      "Enter your mark:97\n",
      "Grade is A\n"
     ]
    }
   ],
   "source": [
    "mark=float(input(\"Enter your mark:\"))\n",
    "if mark>90:\n",
    "    print(\"Grade is A\")\n",
    "elif mark>75 and mark<90:\n",
    "    print(\"Grade is B\")\n",
    "elif mark>65 and mark<76:\n",
    "     print(\"Grade is c\")\n",
    "elif mark>50 and mark<66:\n",
    "     print(\"Grade is D\")\n",
    "else:\n",
    "     print(\"Failed\")\n",
    "\n",
    "    \n",
    "    "
   ]
  },
  {
   "cell_type": "markdown",
   "id": "5a28d101",
   "metadata": {},
   "source": []
  },
  {
   "cell_type": "markdown",
   "id": "6e445d9b",
   "metadata": {},
   "source": [
    "### To print the day of the week"
   ]
  },
  {
   "cell_type": "code",
   "execution_count": 27,
   "id": "2d2a58e6",
   "metadata": {},
   "outputs": [
    {
     "name": "stdout",
     "output_type": "stream",
     "text": [
      "Enter weekday number (1-7):- 6\n",
      "Saturday\n"
     ]
    }
   ],
   "source": [
    "weekday=int(input(\"Enter weekday number (1-7):- \"))\n",
    "if weekday==1:\n",
    "    print(\"Monday\")\n",
    "elif weekday==2:\n",
    "    print(\"Tuesday\")\n",
    "elif weekday==3:\n",
    "    print(\"Wednesday\")\n",
    "elif weekday==4:\n",
    "    print(\"Thursday\")\n",
    "elif weekday==5:\n",
    "    print(\"Friday\")\n",
    "elif weekday==6:\n",
    "    print(\"Saturday\")\n",
    "elif weekday==7:\n",
    "    print(\"sunday\")"
   ]
  }
 ],
 "metadata": {
  "kernelspec": {
   "display_name": "Python 3",
   "language": "python",
   "name": "python3"
  },
  "language_info": {
   "codemirror_mode": {
    "name": "ipython",
    "version": 3
   },
   "file_extension": ".py",
   "mimetype": "text/x-python",
   "name": "python",
   "nbconvert_exporter": "python",
   "pygments_lexer": "ipython3",
   "version": "3.8.8"
  }
 },
 "nbformat": 4,
 "nbformat_minor": 5
}
