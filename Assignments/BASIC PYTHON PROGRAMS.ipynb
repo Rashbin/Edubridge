{
 "cells": [
  {
   "cell_type": "markdown",
   "id": "4f1f86f5",
   "metadata": {
    "slideshow": {
     "slide_type": "-"
    }
   },
   "source": [
    "### Hello world!"
   ]
  },
  {
   "cell_type": "code",
   "execution_count": 1,
   "id": "3433fe86",
   "metadata": {},
   "outputs": [
    {
     "name": "stdout",
     "output_type": "stream",
     "text": [
      "Hello world!\n"
     ]
    }
   ],
   "source": [
    "print(\"Hello world!\")"
   ]
  },
  {
   "cell_type": "markdown",
   "id": "1761b639",
   "metadata": {},
   "source": [
    "### Arithmetic Operations"
   ]
  },
  {
   "cell_type": "code",
   "execution_count": 4,
   "id": "1e8bb662",
   "metadata": {},
   "outputs": [
    {
     "name": "stdout",
     "output_type": "stream",
     "text": [
      "124\n",
      "5\n",
      "50\n",
      "2.0\n",
      "1\n"
     ]
    }
   ],
   "source": [
    "# Addition\n",
    "a=120\n",
    "b=4\n",
    "c=a+b\n",
    "print(c)\n",
    "\n",
    "# Subtraction\n",
    "a=10\n",
    "b=5\n",
    "c=a-b\n",
    "print(c)\n",
    "\n",
    "# Multiplication\n",
    "a=10\n",
    "b=5\n",
    "c=a*b\n",
    "print(c)\n",
    "\n",
    "# Division\n",
    "a=10\n",
    "b=5\n",
    "c=a/b\n",
    "print(c)\n",
    "\n",
    "# Modulo\n",
    "a=10\n",
    "b=3\n",
    "c=a%b\n",
    "print(c)\n"
   ]
  },
  {
   "cell_type": "markdown",
   "id": "a6ac5ad4",
   "metadata": {},
   "source": [
    "### Power of a number"
   ]
  },
  {
   "cell_type": "code",
   "execution_count": 5,
   "id": "273c293e",
   "metadata": {},
   "outputs": [
    {
     "name": "stdout",
     "output_type": "stream",
     "text": [
      "Enter the number: 5\n",
      "Enter the power: 3\n",
      "Power of the number: 125\n"
     ]
    }
   ],
   "source": [
    "a=int(input(\"Enter the number: \"))\n",
    "b=int(input(\"Enter the power: \"))\n",
    "c=a**b\n",
    "print(\"Power of the number:\",c)"
   ]
  },
  {
   "cell_type": "markdown",
   "id": "dce7d97f",
   "metadata": {},
   "source": [
    "### SIMPLE INTEREST(SI)"
   ]
  },
  {
   "cell_type": "code",
   "execution_count": 6,
   "id": "8a4b1610",
   "metadata": {},
   "outputs": [
    {
     "name": "stdout",
     "output_type": "stream",
     "text": [
      "Enter the Principal Amount:2000\n",
      "Enter the Rate per Annum:20\n",
      "Enter the time:2\n",
      "SimpleInterest: 800.0\n"
     ]
    }
   ],
   "source": [
    "p=float(input( \"Enter the Principal Amount:\"))\n",
    "r=float(input(\"Enter the Rate per Annum:\"))\n",
    "t=float(input(\"Enter the time:\"))\n",
    "SI=(p*r*t)/100\n",
    "print(\"SimpleInterest:\",SI)"
   ]
  },
  {
   "cell_type": "markdown",
   "id": "9b246527",
   "metadata": {},
   "source": [
    "### NET SALARY OF AN EMPLOYEE\n"
   ]
  },
  {
   "cell_type": "code",
   "execution_count": 1,
   "id": "491d6b0d",
   "metadata": {},
   "outputs": [
    {
     "name": "stdout",
     "output_type": "stream",
     "text": [
      "Enter the number of days present: 30\n",
      "Enter the wages per day: 800\n",
      "Net salary of an employee: 24720.0\n"
     ]
    }
   ],
   "source": [
    "Days=float(input(\"Enter the number of days present: \"))\n",
    "Wages=float(input(\"Enter the wages per day: \"))\n",
    "Basic=Wages*Days\n",
    "HRA=Basic*0.1\n",
    "DA=Basic*0.05\n",
    "PF=Basic*0.12\n",
    "Net_Salary=(Basic+HRA+DA)-(PF)\n",
    "print(\"Net salary of an employee:\" ,Net_Salary)"
   ]
  },
  {
   "cell_type": "markdown",
   "id": "adfbaa02",
   "metadata": {},
   "source": [
    "### AREA OF SHAPES"
   ]
  },
  {
   "cell_type": "code",
   "execution_count": 8,
   "id": "04fd9f48",
   "metadata": {},
   "outputs": [
    {
     "name": "stdout",
     "output_type": "stream",
     "text": [
      "Area of Rectangle.\n",
      "Enter the Length: 4\n",
      "Enter the Breadth: 3\n",
      "Area of Rectangle:  12.0\n",
      "Area of Square.\n",
      "Enter the Side's length6\n",
      "Area of Square: 36.0\n",
      "Area of Triangle.\n",
      "Enter the Triangle's Height: 5\n",
      "Enter the Triangle's Base: 4\n",
      "Area of Triangle:  10.0\n",
      "Area of Parallelogram.\n",
      "Enter the Parallelogram's Base: 6\n",
      "Enter the Parallelogram's Height: 4\n",
      "Area of Parallelogram:  24\n"
     ]
    }
   ],
   "source": [
    "# Rectangle\n",
    "print(\"Area of Rectangle.\")\n",
    "L=float(input(\"Enter the Length: \"))\n",
    "B=float(input(\"Enter the Breadth: \"))\n",
    "Area=L*B\n",
    "print(\"Area of Rectangle: \",Area)\n",
    "\n",
    "# Square\n",
    "print(\"Area of Square.\")\n",
    "S=float(input(\"Enter the Side's length\"))\n",
    "Area=S*S\n",
    "print(\"Area of Square:\",Area)\n",
    "\n",
    "# Triangle\n",
    "print(\"Area of Triangle.\")\n",
    "H=int(input(\"Enter the Triangle's Height: \"))\n",
    "B=int(input(\"Enter the Triangle's Base: \"))\n",
    "Area=0.5*H*B\n",
    "print(\"Area of Triangle: \",Area)\n",
    "\n",
    "# Parallelogram\n",
    "print(\"Area of Parallelogram.\")\n",
    "B=int(input(\"Enter the Parallelogram's Base: \"))\n",
    "H=int(input(\"Enter the Parallelogram's Height: \"))\n",
    "Area=B*H\n",
    "print(\"Area of Parallelogram: \",Area)\n"
   ]
  },
  {
   "cell_type": "markdown",
   "id": "468f6288",
   "metadata": {},
   "source": [
    "### SOLVE QUADRATIC EQUATION"
   ]
  },
  {
   "cell_type": "code",
   "execution_count": 3,
   "id": "db633d51",
   "metadata": {},
   "outputs": [
    {
     "name": "stdout",
     "output_type": "stream",
     "text": [
      "Quadratic equation: ax^2+bx+c=0\n",
      "Enter the value of x: 4\n",
      "Enter the value of a: 2\n",
      "Enter the value of b: 2\n",
      "Enter the value of c: 4\n",
      "Solution of Quadratic Equation:  44\n"
     ]
    }
   ],
   "source": [
    "print(\"Quadratic equation: ax^2+bx+c=0\")\n",
    "x=int(input(\"Enter the value of x: \"))\n",
    "a=int(input(\"Enter the value of a: \"))\n",
    "b=int(input(\"Enter the value of b: \"))\n",
    "c=int(input(\"Enter the value of c: \"))\n",
    "Solution=(a*(x**2)+b*x+c)\n",
    "print(\"Solution of Quadratic Equation: \",Solution)"
   ]
  },
  {
   "cell_type": "markdown",
   "id": "5726a26b",
   "metadata": {},
   "source": [
    "### VOLUME OF SHAPES"
   ]
  },
  {
   "cell_type": "code",
   "execution_count": 1,
   "id": "5fc1b228",
   "metadata": {},
   "outputs": [
    {
     "name": "stdout",
     "output_type": "stream",
     "text": [
      "Volume of sphere: (4/3)*pi*r^3\n",
      "Enter the radius: 3\n",
      "Volume of Sphere:  113.09759999999997\n",
      "Volume of cube: (side)^3\n",
      "Enter the length of Cube's side: 4\n",
      "Volume of Cube:  64\n",
      "Volume of cylinder: pi*r^2*h\n",
      "Enter the radius: 2\n",
      "Enter the height: 6\n",
      "Volume of Cylinder:  75.3984\n",
      "Volume of cone: (pi*r^2*h)/3\n",
      "Enter the radius: 3\n",
      "Enter the height: 5\n",
      "Volume of Cone:  47.124\n"
     ]
    }
   ],
   "source": [
    "# Sphere\n",
    "print(\"Volume of sphere: (4/3)*pi*r^3\")\n",
    "r=float(input(\"Enter the radius: \"))\n",
    "pi=3.1416\n",
    "Vol=((4/3)*pi*r*r*r)\n",
    "print(\"Volume of Sphere: \",Vol)\n",
    "\n",
    "# Cube\n",
    "print(\"Volume of cube: (side)^3\")\n",
    "a=int(input(\"Enter the length of Cube's side: \"))\n",
    "Vol=a*a*a\n",
    "print(\"Volume of Cube: \",Vol)\n",
    "\n",
    "# Cylinder\n",
    "print(\"Volume of cylinder: pi*r^2*h\")\n",
    "r=int(input(\"Enter the radius: \"))\n",
    "h=int(input(\"Enter the height: \"))\n",
    "pi=3.1416\n",
    "Vol=pi*r*r*h\n",
    "print(\"Volume of Cylinder: \",Vol)\n",
    "\n",
    "# Cone\n",
    "print(\"Volume of cone: (pi*r^2*h)/3\")\n",
    "r=int(input(\"Enter the radius: \"))\n",
    "h=int(input(\"Enter the height: \"))\n",
    "pi=3.1416\n",
    "Vol=(pi*r*r*h)/3\n",
    "print(\"Volume of Cone: \",Vol)\n"
   ]
  },
  {
   "cell_type": "markdown",
   "id": "d683d273",
   "metadata": {},
   "source": [
    "### REVERSE OF NUMBERS"
   ]
  },
  {
   "cell_type": "code",
   "execution_count": 2,
   "id": "6dc8c971",
   "metadata": {},
   "outputs": [
    {
     "name": "stdout",
     "output_type": "stream",
     "text": [
      "Enter the two digit number: 56\n",
      "Reverse of two numbers: 65\n",
      "Enter the three digit number: 432\n",
      "Reverse of three numbers: 234\n"
     ]
    }
   ],
   "source": [
    "# REVERSE OF TWO NUMBERS\n",
    "num=int(input(\"Enter the two digit number: \"))\n",
    "num1=num%10\n",
    "num2=num//10\n",
    "reverse=(num1*10)+num2\n",
    "print(\"Reverse of two numbers:\", reverse)\n",
    "\n",
    "# REVERSE OF THREE NUMBERS\n",
    "num=int(input(\"Enter the three digit number: \"))\n",
    "num1=num%10\n",
    "num2=num//10\n",
    "num3=num2%10\n",
    "num4=num2//10\n",
    "reverse=(num1*100)+(num3*10)+num4\n",
    "print(\"Reverse of three numbers:\",reverse)"
   ]
  },
  {
   "cell_type": "markdown",
   "id": "2eb23fcc",
   "metadata": {},
   "source": [
    "### PERIMETER OF SHAPES"
   ]
  },
  {
   "cell_type": "code",
   "execution_count": 14,
   "id": "7a5d301a",
   "metadata": {},
   "outputs": [
    {
     "name": "stdout",
     "output_type": "stream",
     "text": [
      "Enter the length: 4\n",
      "Enter the breadth: 5\n",
      "Perimeter of Rectangle:  18\n",
      "Enter the length of one side: 5\n",
      "Perimeter of Square:  20\n",
      "Enter the first side of Triangle: 4\n",
      "Enter the second side of Triangle: 5\n",
      "Enter the third side of Triangle: 2\n",
      "Perimeter of Triangle:  11\n",
      "Enter the radius: 5\n",
      "Perimeter of Circle:  31.400000000000002\n"
     ]
    }
   ],
   "source": [
    "# Perimeter of Rectangle\n",
    "l=int(input(\"Enter the length: \"))\n",
    "b=int(input(\"Enter the breadth: \"))\n",
    "perimeter=2*(l+b)\n",
    "print(\"Perimeter of Rectangle: \",perimeter)\n",
    "\n",
    "# Perimeter of Square\n",
    "a=int(input(\"Enter the length of one side: \"))\n",
    "perimeter=4*a\n",
    "print(\"Perimeter of Square: \",perimeter)\n",
    "\n",
    "# Perimeter of Triangle\n",
    "a=int(input(\"Enter the first side of Triangle: \"))\n",
    "b=int(input(\"Enter the second side of Triangle: \"))\n",
    "c=int(input(\"Enter the third side of Triangle: \"))\n",
    "perimeter=a+b+c\n",
    "print(\"Perimeter of Triangle: \",perimeter)\n",
    "\n",
    "#Perimeter of Circle\n",
    "r=int(input(\"Enter the radius: \"))\n",
    "pi=3.14\n",
    "perimeter=2*pi*r\n",
    "print(\"Perimeter of Circle: \",perimeter)\n"
   ]
  }
 ],
 "metadata": {
  "kernelspec": {
   "display_name": "Python 3",
   "language": "python",
   "name": "python3"
  },
  "language_info": {
   "codemirror_mode": {
    "name": "ipython",
    "version": 3
   },
   "file_extension": ".py",
   "mimetype": "text/x-python",
   "name": "python",
   "nbconvert_exporter": "python",
   "pygments_lexer": "ipython3",
   "version": "3.8.8"
  }
 },
 "nbformat": 4,
 "nbformat_minor": 5
}
